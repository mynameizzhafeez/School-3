{
 "cells": [
  {
   "cell_type": "markdown",
   "id": "fe348926",
   "metadata": {},
   "source": [
    "## histogram example 1"
   ]
  },
  {
   "cell_type": "code",
   "execution_count": 2,
   "id": "91fe3452",
   "metadata": {},
   "outputs": [],
   "source": [
    "# we need these 3 packages:\n",
    "import cv2\n",
    "import numpy as np\n",
    "from matplotlib import pyplot as plt"
   ]
  },
  {
   "cell_type": "code",
   "execution_count": 5,
   "id": "93b0919c",
   "metadata": {},
   "outputs": [],
   "source": [
    "# we read a low contrast image first, then we show that\n",
    "#\n",
    "image = cv2.imread('./CS4243_2023_images_small/p4p.jpg')\n",
    "cv2.namedWindow(\"Original\", cv2.WINDOW_NORMAL)\n",
    "cv2.imshow('Original',image)\n",
    "\n",
    "# conversion to gray-level and showing that too\n",
    "gle = cv2.cvtColor(image, cv2.COLOR_BGR2GRAY)\n",
    "cv2.namedWindow(\"Grayscale\", cv2.WINDOW_NORMAL)\n",
    "cv2.imshow('Grayscale', gle)\n"
   ]
  },
  {
   "cell_type": "code",
   "execution_count": 6,
   "id": "920803dc",
   "metadata": {},
   "outputs": [
    {
     "data": {
      "image/png": "[encoded data removed]",
      "text/plain": [
       "<Figure size 432x288 with 1 Axes>"
      ]
     },
     "metadata": {
      "needs_background": "light"
     },
     "output_type": "display_data"
    }
   ],
   "source": [
    "#\n",
    "# histogram method in numpy, we convert the 2d image into 1d array and the range of values\n",
    "# set between 0 and 255, number of bins is 256\n",
    "#\n",
    "hist,bins = np.histogram(gle.flatten(),256,[0,256])\n",
    "\n",
    "# cummolative distribution function will be computed, using cumsum function\n",
    "# then we normalize the results. \n",
    "cdf = hist.cumsum()\n",
    "cdf_normalized = cdf * hist.max()/ cdf.max()\n",
    "\n",
    "# then the histogram and cdf will be plotted\n",
    "#\n",
    "plt.plot(cdf_normalized, color = 'b')\n",
    "plt.hist(gle.flatten(),256,[0,256], color = 'r')\n",
    "plt.xlim([0,256])\n",
    "plt.legend(('cdf','histogram'), loc = 'upper left')\n",
    "plt.show()\n"
   ]
  },
  {
   "cell_type": "code",
   "execution_count": 7,
   "id": "bf84ab44",
   "metadata": {},
   "outputs": [
    {
     "name": "stdout",
     "output_type": "stream",
     "text": [
      "dynamic range is between  0  and  255\n"
     ]
    }
   ],
   "source": [
    "print('dynamic range is between ', np.min(image), ' and ', np.max(image))"
   ]
  },
  {
   "cell_type": "code",
   "execution_count": 8,
   "id": "519966f8",
   "metadata": {},
   "outputs": [],
   "source": [
    "# we divide the pixels' value by 2 to make it even lower contrast\n",
    "gle = gle / 2 "
   ]
  },
  {
   "cell_type": "code",
   "execution_count": 9,
   "id": "ce534765",
   "metadata": {},
   "outputs": [
    {
     "data": {
      "image/png": "[encoded data removed]",
      "text/plain": [
       "<Figure size 432x288 with 1 Axes>"
      ]
     },
     "metadata": {
      "needs_background": "light"
     },
     "output_type": "display_data"
    }
   ],
   "source": [
    "# again, historam nad cdf would be computed and shown\n",
    "# hist is the histogram, bins is the bins range\n",
    "#\n",
    "hist,bins = np.histogram(gle.flatten(),256,[0,256])\n",
    "\n",
    "cdf = hist.cumsum()\n",
    "cdf_normalized = cdf * hist.max()/ cdf.max()\n",
    "\n",
    "plt.plot(cdf_normalized, color = 'b')\n",
    "plt.hist(gle.flatten(),256,[0,256], color = 'r')\n",
    "plt.xlim([0,256])\n",
    "plt.legend(('cdf','histogram'), loc = 'upper left')\n",
    "plt.show()\n"
   ]
  },
  {
   "cell_type": "code",
   "execution_count": 10,
   "id": "6fe2249a",
   "metadata": {},
   "outputs": [
    {
     "data": {
      "text/plain": [
       "array([  0.,   1.,   2.,   3.,   4.,   5.,   6.,   7.,   8.,   9.,  10.,\n",
       "        11.,  12.,  13.,  14.,  15.,  16.,  17.,  18.,  19.,  20.,  21.,\n",
       "        22.,  23.,  24.,  25.,  26.,  27.,  28.,  29.,  30.,  31.,  32.,\n",
       "        33.,  34.,  35.,  36.,  37.,  38.,  39.,  40.,  41.,  42.,  43.,\n",
       "        44.,  45.,  46.,  47.,  48.,  49.,  50.,  51.,  52.,  53.,  54.,\n",
       "        55.,  56.,  57.,  58.,  59.,  60.,  61.,  62.,  63.,  64.,  65.,\n",
       "        66.,  67.,  68.,  69.,  70.,  71.,  72.,  73.,  74.,  75.,  76.,\n",
       "        77.,  78.,  79.,  80.,  81.,  82.,  83.,  84.,  85.,  86.,  87.,\n",
       "        88.,  89.,  90.,  91.,  92.,  93.,  94.,  95.,  96.,  97.,  98.,\n",
       "        99., 100., 101., 102., 103., 104., 105., 106., 107., 108., 109.,\n",
       "       110., 111., 112., 113., 114., 115., 116., 117., 118., 119., 120.,\n",
       "       121., 122., 123., 124., 125., 126., 127., 128., 129., 130., 131.,\n",
       "       132., 133., 134., 135., 136., 137., 138., 139., 140., 141., 142.,\n",
       "       143., 144., 145., 146., 147., 148., 149., 150., 151., 152., 153.,\n",
       "       154., 155., 156., 157., 158., 159., 160., 161., 162., 163., 164.,\n",
       "       165., 166., 167., 168., 169., 170., 171., 172., 173., 174., 175.,\n",
       "       176., 177., 178., 179., 180., 181., 182., 183., 184., 185., 186.,\n",
       "       187., 188., 189., 190., 191., 192., 193., 194., 195., 196., 197.,\n",
       "       198., 199., 200., 201., 202., 203., 204., 205., 206., 207., 208.,\n",
       "       209., 210., 211., 212., 213., 214., 215., 216., 217., 218., 219.,\n",
       "       220., 221., 222., 223., 224., 225., 226., 227., 228., 229., 230.,\n",
       "       231., 232., 233., 234., 235., 236., 237., 238., 239., 240., 241.,\n",
       "       242., 243., 244., 245., 246., 247., 248., 249., 250., 251., 252.,\n",
       "       253., 254., 255., 256.])"
      ]
     },
     "execution_count": 10,
     "metadata": {},
     "output_type": "execute_result"
    }
   ],
   "source": [
    "bins"
   ]
  },
  {
   "cell_type": "code",
   "execution_count": 11,
   "id": "93b1df71",
   "metadata": {},
   "outputs": [
    {
     "data": {
      "text/plain": [
       "array([   1205,    4708,   64269,  984317, 2521514, 2730354, 1076790,\n",
       "        158729,   80719,   74147,   58972,   52045,   66295,   64670,\n",
       "         45234,   42473,   45367,   31331,   20288,   20766,   18766,\n",
       "         12090,    9603,   10511,    8471,    6090,    6523,    6572,\n",
       "          4819,    4269,    5138,    4241,    3217,    3544,    3563,\n",
       "          2811,    2543,    2957,    2577,    2123,    2258,    2349,\n",
       "          1814,    1772,    2039,    1787,    1514,    1654,    1694,\n",
       "          1368,    1409,    1505,    1437,    1356,    1310,    1363,\n",
       "          1311,    1320,    1295,    1315,    1302,    1288,    1393,\n",
       "          1314,    1339,    1357,    1390,    1327,    1286,    1289,\n",
       "          1299,    1309,    1275,    1309,    1287,    1269,    1327,\n",
       "          1249,    1272,    1328,    1300,    1221,    1323,    1213,\n",
       "          1280,    1240,    1281,    1294,    1288,    1370,    1430,\n",
       "          1329,    1435,    1466,    1451,    1455,    1489,    1512,\n",
       "          1573,    1581,    1662,    1809,    1727,    1840,    2010,\n",
       "          2061,    2273,    2370,    2561,    2669,    2975,    3172,\n",
       "          3499,    3978,    3553,    1281,     135,      71,      66,\n",
       "            61,      71,      67,      89,     103,     131,     376,\n",
       "           933,    1410,       0,       0,       0,       0,       0,\n",
       "             0,       0,       0,       0,       0,       0,       0,\n",
       "             0,       0,       0,       0,       0,       0,       0,\n",
       "             0,       0,       0,       0,       0,       0,       0,\n",
       "             0,       0,       0,       0,       0,       0,       0,\n",
       "             0,       0,       0,       0,       0,       0,       0,\n",
       "             0,       0,       0,       0,       0,       0,       0,\n",
       "             0,       0,       0,       0,       0,       0,       0,\n",
       "             0,       0,       0,       0,       0,       0,       0,\n",
       "             0,       0,       0,       0,       0,       0,       0,\n",
       "             0,       0,       0,       0,       0,       0,       0,\n",
       "             0,       0,       0,       0,       0,       0,       0,\n",
       "             0,       0,       0,       0,       0,       0,       0,\n",
       "             0,       0,       0,       0,       0,       0,       0,\n",
       "             0,       0,       0,       0,       0,       0,       0,\n",
       "             0,       0,       0,       0,       0,       0,       0,\n",
       "             0,       0,       0,       0,       0,       0,       0,\n",
       "             0,       0,       0,       0,       0,       0,       0,\n",
       "             0,       0,       0,       0])"
      ]
     },
     "execution_count": 11,
     "metadata": {},
     "output_type": "execute_result"
    }
   ],
   "source": [
    "hist"
   ]
  },
  {
   "cell_type": "code",
   "execution_count": 12,
   "id": "9cadf522",
   "metadata": {},
   "outputs": [],
   "source": [
    "#cv2.namedWindow(\"div by 2\", cv2.WINDOW_NORMAL)\n",
    "cv2.imshow('div by 2', np.uint8(gle))"
   ]
  },
  {
   "cell_type": "code",
   "execution_count": 13,
   "id": "c8256684",
   "metadata": {},
   "outputs": [],
   "source": [
    "# again ....\n",
    "gle = gle / 2 "
   ]
  },
  {
   "cell_type": "code",
   "execution_count": 14,
   "id": "de6479df",
   "metadata": {},
   "outputs": [
    {
     "data": {
      "image/png": "[encoded data removed]",
      "text/plain": [
       "<Figure size 432x288 with 1 Axes>"
      ]
     },
     "metadata": {
      "needs_background": "light"
     },
     "output_type": "display_data"
    }
   ],
   "source": [
    "hist,bins = np.histogram(gle.flatten(),256,[0,256])\n",
    "\n",
    "cdf = hist.cumsum()\n",
    "cdf_normalized = cdf * hist.max()/ cdf.max()\n",
    "\n",
    "plt.plot(cdf_normalized, color = 'b')\n",
    "plt.hist(gle.flatten(),256,[0,256], color = 'r')\n",
    "plt.xlim([0,256])\n",
    "plt.legend(('cdf','histogram'), loc = 'upper left')\n",
    "plt.show()\n"
   ]
  },
  {
   "cell_type": "code",
   "execution_count": 15,
   "id": "ee97ec40",
   "metadata": {},
   "outputs": [],
   "source": [
    "#cv2.namedWindow(\"div by 4\", cv2.WINDOW_NORMAL)\n",
    "cv2.imshow('div by 5', np.uint8(gle))"
   ]
  },
  {
   "cell_type": "markdown",
   "id": "90573ea7",
   "metadata": {},
   "source": [
    "### histogram equalization"
   ]
  },
  {
   "cell_type": "code",
   "execution_count": 16,
   "id": "e2e6f529",
   "metadata": {},
   "outputs": [],
   "source": [
    "# results of division will be converted to uint8\n",
    "# opencv equalizeHist function to equalize the hist\n",
    "equ = cv2.equalizeHist(np.uint8(gle))\n",
    "#cv2.namedWindow(\"Equalized\", cv2.WINDOW_NORMAL)\n",
    "cv2.imshow('Equalized', np.uint8(equ)) \n"
   ]
  },
  {
   "cell_type": "code",
   "execution_count": null,
   "id": "4c8db386",
   "metadata": {},
   "outputs": [],
   "source": []
  },
  {
   "cell_type": "code",
   "execution_count": 17,
   "id": "3ff6fa8e",
   "metadata": {},
   "outputs": [
    {
     "data": {
      "image/png": "[encoded data removed]",
      "text/plain": [
       "<Figure size 432x288 with 1 Axes>"
      ]
     },
     "metadata": {
      "needs_background": "light"
     },
     "output_type": "display_data"
    }
   ],
   "source": [
    "# equalized image histogram and its cdf\n",
    "#\n",
    "hist,bins = np.histogram(equ.flatten(),256,[0,256])\n",
    "\n",
    "cdf = hist.cumsum()\n",
    "cdf_normalized = cdf * hist.max()/ cdf.max()\n",
    "\n",
    "plt.plot(cdf_normalized, color = 'g')\n",
    "plt.hist(equ.flatten(),256,[0,256], color = 'c')\n",
    "plt.xlim([0,256])\n",
    "plt.legend(('cdf','stretch hist'), loc = 'upper left')\n",
    "plt.show()"
   ]
  },
  {
   "cell_type": "code",
   "execution_count": null,
   "id": "7dbe5c10",
   "metadata": {},
   "outputs": [],
   "source": [
    "cv2.waitKey()\n",
    "cv2.destroyAllWindows()"
   ]
  },
  {
   "cell_type": "code",
   "execution_count": null,
   "id": "40f1fb15",
   "metadata": {},
   "outputs": [],
   "source": []
  }
 ],
 "metadata": {
  "kernelspec": {
   "display_name": "Python 3",
   "language": "python",
   "name": "python3"
  },
  "language_info": {
   "codemirror_mode": {
    "name": "ipython",
    "version": 3
   },
   "file_extension": ".py",
   "mimetype": "text/x-python",
   "name": "python",
   "nbconvert_exporter": "python",
   "pygments_lexer": "ipython3",
   "version": "3.8.8"
  }
 },
 "nbformat": 4,
 "nbformat_minor": 5
}
