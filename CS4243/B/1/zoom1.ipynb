{
 "cells": [
  {
   "cell_type": "code",
   "execution_count": 1,
   "id": "1e87c5d2",
   "metadata": {},
   "outputs": [],
   "source": [
    "import cv2\n",
    "import numpy as np\n",
    "from matplotlib import pyplot as plt"
   ]
  },
  {
   "cell_type": "code",
   "execution_count": 2,
   "id": "f9320eae",
   "metadata": {},
   "outputs": [],
   "source": [
    "#image file name:  \n",
    "imgname = '..\\cat.bmp'"
   ]
  },
  {
   "cell_type": "code",
   "execution_count": 3,
   "id": "98085ddf",
   "metadata": {},
   "outputs": [],
   "source": [
    "# original image reading and showing\n",
    "#\n",
    "img = cv2.imread(imgname)\n",
    "cv2.imshow('Original',img)\n",
    "\n",
    "M = img.shape"
   ]
  },
  {
   "cell_type": "code",
   "execution_count": 4,
   "id": "40d4a80d",
   "metadata": {},
   "outputs": [
    {
     "data": {
      "text/plain": [
       "' OR\\nheight, width = img.shape[:2]\\nres = cv2.resize(img,(2*width, 2*height), interpolation = cv2.INTER_CUBIC) \\n'"
      ]
     },
     "execution_count": 4,
     "metadata": {},
     "output_type": "execute_result"
    }
   ],
   "source": [
    "# using opencv's resize function\n",
    "# scale factors are fx=fy=2, to zoom in x2\n",
    "# zoom algorithm is INTER_CUBIC\n",
    "#\n",
    "res = cv2.resize(img,None,fx=2, fy=2, interpolation = cv2.INTER_CUBIC)\n",
    "\n",
    "''' OR\n",
    "height, width = img.shape[:2]\n",
    "res = cv2.resize(img,(2*width, 2*height), interpolation = cv2.INTER_CUBIC) \n",
    "'''"
   ]
  },
  {
   "cell_type": "code",
   "execution_count": 5,
   "id": "aad9ef6d",
   "metadata": {},
   "outputs": [
    {
     "data": {
      "text/plain": [
       "' interpolation: \\n[optional] flag that takes one of the following methods. INTER_NEAREST – a nearest-neighbor interpolation \\nINTER_LINEAR – a bilinear interpolation (used by default) \\nINTER_AREA – resampling using pixel area relation. It may be a preferred method for image decimation, as it \\ngives moire’-free results. But when the image is zoomed, it is similar to the INTER_NEAREST method. \\nINTER_CUBIC – a bicubic interpolation over 4×4 pixel neighborhood \\nINTER_LANCZOS4 – a Lanczos interpolation over 8×8 pixel neighborhood\\n'"
      ]
     },
     "execution_count": 5,
     "metadata": {},
     "output_type": "execute_result"
    }
   ],
   "source": [
    "''' interpolation: \n",
    "[optional] flag that takes one of the following methods. INTER_NEAREST – a nearest-neighbor interpolation \n",
    "INTER_LINEAR – a bilinear interpolation (used by default) \n",
    "INTER_AREA – resampling using pixel area relation. It may be a preferred method for image decimation, as it \n",
    "gives moire’-free results. But when the image is zoomed, it is similar to the INTER_NEAREST method. \n",
    "INTER_CUBIC – a bicubic interpolation over 4×4 pixel neighborhood \n",
    "INTER_LANCZOS4 – a Lanczos interpolation over 8×8 pixel neighborhood\n",
    "'''"
   ]
  },
  {
   "cell_type": "code",
   "execution_count": 6,
   "id": "e7f2e660",
   "metadata": {},
   "outputs": [],
   "source": [
    "cv2.imshow('x2',res)"
   ]
  },
  {
   "cell_type": "code",
   "execution_count": 7,
   "id": "89aa6104",
   "metadata": {},
   "outputs": [],
   "source": [
    "# zooming out, scale = 0.25, 4 times smaller\n",
    "#\n",
    "res = cv2.resize(img,None,fx=0.25, fy=0.25 , interpolation = cv2.INTER_CUBIC)"
   ]
  },
  {
   "cell_type": "code",
   "execution_count": 8,
   "id": "faac9aae",
   "metadata": {},
   "outputs": [],
   "source": [
    "cv2.imshow('x0.25',res)"
   ]
  },
  {
   "cell_type": "markdown",
   "id": "80d14392",
   "metadata": {},
   "source": [
    "### interpolation: \n",
    "- INTER_NEAREST\n",
    "- INTER_LINEAR \n",
    "- INTER_AREA\n",
    "- INTER_CUBIC \n",
    "- - INTER_LANCZOS4"
   ]
  },
  {
   "cell_type": "code",
   "execution_count": 9,
   "id": "596a860a",
   "metadata": {},
   "outputs": [
    {
     "name": "stdout",
     "output_type": "stream",
     "text": [
      "118.31913248697917 53.04876708984375\n"
     ]
    }
   ],
   "source": [
    "res = cv2.resize(img,None,fx=0.25, fy=0.25, interpolation = cv2.INTER_CUBIC)\n",
    "\n",
    "res = cv2.resize(res,None,fx=4, fy=4, interpolation = cv2.INTER_CUBIC)\n",
    "adiff = np.mean( abs( img - res))\n",
    "msdiff = np.mean( ( img - res)**2)\n",
    "\n",
    "print(adiff,msdiff)"
   ]
  },
  {
   "cell_type": "code",
   "execution_count": 10,
   "id": "b51d1051",
   "metadata": {},
   "outputs": [
    {
     "name": "stdout",
     "output_type": "stream",
     "text": [
      "110.71096801757812 54.848612467447914\n"
     ]
    }
   ],
   "source": [
    "res = cv2.resize(img,None,fx=0.25, fy=0.25, interpolation = cv2.INTER_NEAREST)\n",
    "\n",
    "res = cv2.resize(res,None,fx=4, fy=4, interpolation = cv2.INTER_NEAREST)\n",
    "adiff = np.mean( abs( img - res))\n",
    "msdiff = np.mean( ( img - res)**2)\n",
    "\n",
    "print(adiff,msdiff)"
   ]
  },
  {
   "cell_type": "code",
   "execution_count": 11,
   "id": "5126f8a7",
   "metadata": {},
   "outputs": [
    {
     "name": "stdout",
     "output_type": "stream",
     "text": [
      "124.44996643066406 50.28437805175781\n"
     ]
    }
   ],
   "source": [
    "res = cv2.resize(img,None,fx=0.25, fy=0.25, interpolation = cv2.INTER_LINEAR)\n",
    "\n",
    "res = cv2.resize(res,None,fx=4, fy=4, interpolation = cv2.INTER_LINEAR)\n",
    "adiff = np.mean( abs( img - res))\n",
    "msdiff = np.mean( ( img - res)**2)\n",
    "\n",
    "print(adiff,msdiff)"
   ]
  },
  {
   "cell_type": "code",
   "execution_count": 12,
   "id": "9f1e9bff",
   "metadata": {},
   "outputs": [],
   "source": [
    "cv2.waitKey()\n",
    "cv2.destroyAllWindows()"
   ]
  }
 ],
 "metadata": {
  "kernelspec": {
   "display_name": "Python 3 (ipykernel)",
   "language": "python",
   "name": "python3"
  },
  "language_info": {
   "codemirror_mode": {
    "name": "ipython",
    "version": 3
   },
   "file_extension": ".py",
   "mimetype": "text/x-python",
   "name": "python",
   "nbconvert_exporter": "python",
   "pygments_lexer": "ipython3",
   "version": "3.8.16"
  }
 },
 "nbformat": 4,
 "nbformat_minor": 5
}
